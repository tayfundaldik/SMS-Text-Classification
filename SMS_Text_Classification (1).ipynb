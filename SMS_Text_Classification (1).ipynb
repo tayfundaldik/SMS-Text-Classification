{
 "cells": [
  {
   "cell_type": "code",
   "execution_count": null,
   "metadata": {
    "colab": {
     "base_uri": "https://localhost:8080/"
    },
    "id": "8RZOuS9LWQvv",
    "outputId": "766b8400-6e71-424b-f127-0e3923eebc66",
    "tags": []
   },
   "outputs": [],
   "source": [
    "# import libraries\n",
    "try:\n",
    "  # %tensorflow_version only exists in Colab.\n",
    "  !pip install tf-nightly\n",
    "except Exception:\n",
    "  pass\n",
    "import tensorflow as tf\n",
    "import pandas as pd\n",
    "from tensorflow import keras\n",
    "!pip install tensorflow-datasets\n",
    "import tensorflow_datasets as tfds\n",
    "import numpy as np\n",
    "import matplotlib.pyplot as plt\n",
    "\n",
    "print(tf.__version__)"
   ]
  },
  {
   "cell_type": "code",
   "execution_count": null,
   "metadata": {
    "colab": {
     "base_uri": "https://localhost:8080/"
    },
    "id": "lMHwYXHXCar3",
    "outputId": "c260a411-ebfb-4b97-9c88-3891f73fa509",
    "tags": []
   },
   "outputs": [],
   "source": [
    "# get data files\n",
    "!wget https://cdn.freecodecamp.org/project-data/sms/train-data.tsv\n",
    "!wget https://cdn.freecodecamp.org/project-data/sms/valid-data.tsv\n",
    "\n",
    "train_file_path = \"train-data.tsv\"\n",
    "test_file_path = \"valid-data.tsv\""
   ]
  },
  {
   "cell_type": "code",
   "execution_count": null,
   "metadata": {
    "id": "HsHPLgFjtbWQ",
    "tags": []
   },
   "outputs": [],
   "source": [
    "#This is because our data is a tsv file(i didn't know it exits until now)(Tayfun Daldık's note)\n",
    "train_data = pd.read_csv(train_file_path, sep='\\t')\n",
    "test_data = pd.read_csv(test_file_path, sep='\\t')"
   ]
  },
  {
   "cell_type": "code",
   "execution_count": null,
   "metadata": {
    "id": "q4uWjvgauoVe",
    "tags": []
   },
   "outputs": [],
   "source": [
    "#Editing Columns(Tayfun Daldık's note)\n",
    "train_data.columns = ['category' , 'message']\n",
    "test_data.columns=['category' , 'message']"
   ]
  },
  {
   "cell_type": "code",
   "execution_count": null,
   "metadata": {
    "colab": {
     "base_uri": "https://localhost:8080/",
     "height": 206
    },
    "id": "YwRXbRUWwCCO",
    "outputId": "616ad372-132c-4204-ee6f-04817444ae7d",
    "tags": []
   },
   "outputs": [],
   "source": [
    "test_data.head()"
   ]
  },
  {
   "cell_type": "markdown",
   "metadata": {
    "id": "JxElQjPbJ23o"
   },
   "source": [
    "##I learned make_pipeline for this exercise and that was hard to undersand until using it."
   ]
  },
  {
   "cell_type": "markdown",
   "metadata": {
    "id": "pd3s5anvLbAa"
   },
   "source": [
    "###CountVectorizer converts vocabs to binary values so i had to add it. I used naive bayes because i looked some text classification examples and they used it and it is efficient"
   ]
  },
  {
   "cell_type": "code",
   "execution_count": null,
   "metadata": {
    "colab": {
     "base_uri": "https://localhost:8080/",
     "height": 126
    },
    "id": "QM-9J7SE1Wwx",
    "outputId": "ac1aabb8-a31c-4450-fac3-632069034319",
    "tags": []
   },
   "outputs": [],
   "source": [
    "from sklearn.feature_extraction.text import CountVectorizer\n",
    "from sklearn.naive_bayes import MultinomialNB\n",
    "from sklearn.pipeline import make_pipeline\n",
    "model = make_pipeline(CountVectorizer(), MultinomialNB())\n",
    "model.fit(train_data['message'], train_data['category'])"
   ]
  },
  {
   "cell_type": "code",
   "execution_count": null,
   "metadata": {
    "colab": {
     "base_uri": "https://localhost:8080/"
    },
    "id": "J9tD9yACG6M9",
    "outputId": "ab896751-63f2-4396-9860-aabb6d867fd6",
    "tags": []
   },
   "outputs": [],
   "source": [
    "# function to predict messages based on model\n",
    "def predict_message(pred_text):\n",
    "  predict = model.predict_proba([pred_text])[0]\n",
    "  likeliness = max(predict)\n",
    "  label = \"ham\" if predict.argmax() == 0 else \"spam\"\n",
    "  prediction =[likeliness, label]\n",
    "  return (prediction)\n",
    "\n",
    "pred_text = \"how are you doing today?\"\n",
    "\n",
    "prediction = predict_message(pred_text)\n",
    "print(prediction)"
   ]
  },
  {
   "cell_type": "code",
   "execution_count": null,
   "metadata": {
    "colab": {
     "base_uri": "https://localhost:8080/"
    },
    "id": "Dxotov85SjsC",
    "outputId": "900b2742-91ff-4163-ba4d-fedb9ec6d1c4",
    "tags": []
   },
   "outputs": [],
   "source": [
    "# Run this cell to test your function and model. Do not modify contents.\n",
    "def test_predictions():\n",
    "  test_messages = [\"how are you doing today\",\n",
    "                   \"sale today! to stop texts call 98912460324\",\n",
    "                   \"i dont want to go. can we try it a different day? available sat\",\n",
    "                   \"our new mobile video service is live. just install on your phone to start watching.\",\n",
    "                   \"you have won £1000 cash! call to claim your prize.\",\n",
    "                   \"i'll bring it tomorrow. don't forget the milk.\",\n",
    "                   \"wow, is your arm alright. that happened to me one time too\"\n",
    "                  ]\n",
    "\n",
    "  test_answers = [\"ham\", \"spam\", \"ham\", \"spam\", \"spam\", \"ham\", \"ham\"]\n",
    "  passed = True\n",
    "\n",
    "  for msg, ans in zip(test_messages, test_answers):\n",
    "    prediction = predict_message(msg)\n",
    "    if prediction[1] != ans:\n",
    "      passed = False\n",
    "\n",
    "  if passed:\n",
    "    print(\"You passed the challenge. Great job!\")\n",
    "  else:\n",
    "    print(\"You haven't passed yet. Keep trying.\")\n",
    "\n",
    "test_predictions()\n"
   ]
  }
 ],
 "metadata": {
  "colab": {
   "provenance": []
  },
  "kernelspec": {
   "display_name": "Python 3 (ipykernel)",
   "language": "python",
   "name": "python3"
  },
  "language_info": {
   "codemirror_mode": {
    "name": "ipython",
    "version": 3
   },
   "file_extension": ".py",
   "mimetype": "text/x-python",
   "name": "python",
   "nbconvert_exporter": "python",
   "pygments_lexer": "ipython3",
   "version": "3.11.5"
  }
 },
 "nbformat": 4,
 "nbformat_minor": 4
}
